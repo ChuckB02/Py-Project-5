{
 "cells": [
  {
   "cell_type": "code",
   "execution_count": null,
   "metadata": {},
   "outputs": [
    {
     "ename": "",
     "evalue": "",
     "output_type": "error",
     "traceback": [
      "\u001b[1;31mRunning cells with 'Python 3.8.8 64-bit ('anaconda3')' requires ipykernel package.\n",
      "\u001b[1;31mRun the following command to install 'ipykernel' into the Python environment. \n",
      "\u001b[1;31mCommand: '\"c:/Users/Atul Sharma/anaconda3/python.exe\" -m pip install ipykernel -U --user --force-reinstall'"
     ]
    }
   ],
   "source": [
    "import hashlib\n",
    "def hashGenerator(data):\n",
    "    result=hashlib.sha256(data.encode())\n",
    "    return result.hexdigest()\n",
    "class Block:\n",
    "    def __init__(self,data,hash,prev_hash):\n",
    "        self.data=data\n",
    "        self.hash=hash\n",
    "        self.prev_hash=prev_hash\n",
    "class Blockchain:\n",
    "    def __init__(self):\n",
    "        hashLast=hashGenerator('gen_last')\n",
    "        hashStart=hashGenerator('gen_hash')\n",
    "\n",
    "        genesis=Block('gen_data',hashStart,hashLast)\n",
    "        self.chain=[genesis]\n",
    "    def add_block(self,data):\n",
    "        prev_hash=self.chain[-1].hash\n",
    "        hash=hashGenerator(data+prev_hash)\n",
    "        block=Block(data,hash,prev_hash)\n",
    "        self.chain.append(block)\n",
    "bc=Blockchain()\n",
    "getcode=input(\"Enter your input to create hash:\")\n",
    "bc.add_block(getcode)\n",
    "getcode=input(\"Enter your next input to create hash:\")\n",
    "bc.add_block(getcode)\n",
    "getcode=input(\"Enter your next input to create hash:\")\n",
    "bc.add_block(getcode)\n",
    "for block in bc.chain:\n",
    "    print(block.__dict__)"
   ]
  }
 ],
 "metadata": {
  "kernelspec": {
   "display_name": "Python 3.8.8 64-bit ('anaconda3')",
   "language": "python",
   "name": "python3"
  },
  "language_info": {
   "name": "python",
   "version": "3.8.8"
  },
  "orig_nbformat": 4,
  "vscode": {
   "interpreter": {
    "hash": "38b4f4fe7747dbd6911ae25946db974bcdc4b68dc3f40c939d6ff167fdd8b8f8"
   }
  }
 },
 "nbformat": 4,
 "nbformat_minor": 2
}
